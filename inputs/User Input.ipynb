{
 "cells": [
  {
   "cell_type": "code",
   "execution_count": 2,
   "id": "global-booth",
   "metadata": {},
   "outputs": [
    {
     "name": "stdin",
     "output_type": "stream",
     "text": [
      " wow\n"
     ]
    }
   ],
   "source": [
    "inp = input()"
   ]
  },
  {
   "cell_type": "code",
   "execution_count": 3,
   "id": "dirty-taxation",
   "metadata": {},
   "outputs": [
    {
     "name": "stdout",
     "output_type": "stream",
     "text": [
      "wow\n"
     ]
    }
   ],
   "source": [
    "print(inp)"
   ]
  },
  {
   "cell_type": "code",
   "execution_count": 4,
   "id": "checked-warren",
   "metadata": {},
   "outputs": [],
   "source": [
    "questions = ['Whats your name?', 'How old are you?', 'What city do you live in?']\n",
    "list_of_responses = []"
   ]
  },
  {
   "cell_type": "code",
   "execution_count": 5,
   "id": "reflected-chassis",
   "metadata": {},
   "outputs": [],
   "source": [
    "def ask_question():\n",
    "    qna = []\n",
    "    for qs in questions:\n",
    "        print(qs)\n",
    "        qna.append(input())\n",
    "    list_of_responses.append(qna)"
   ]
  },
  {
   "cell_type": "code",
   "execution_count": 6,
   "id": "disciplinary-effort",
   "metadata": {},
   "outputs": [
    {
     "name": "stdout",
     "output_type": "stream",
     "text": [
      "Whats your name?\n"
     ]
    },
    {
     "name": "stdin",
     "output_type": "stream",
     "text": [
      " fen\n"
     ]
    },
    {
     "name": "stdout",
     "output_type": "stream",
     "text": [
      "How old are you?\n"
     ]
    },
    {
     "name": "stdin",
     "output_type": "stream",
     "text": [
      " 24\n"
     ]
    },
    {
     "name": "stdout",
     "output_type": "stream",
     "text": [
      "What city do you live in?\n"
     ]
    },
    {
     "name": "stdin",
     "output_type": "stream",
     "text": [
      " seattle\n"
     ]
    },
    {
     "name": "stdout",
     "output_type": "stream",
     "text": [
      "Whats your name?\n"
     ]
    },
    {
     "name": "stdin",
     "output_type": "stream",
     "text": [
      " wasabi\n"
     ]
    },
    {
     "name": "stdout",
     "output_type": "stream",
     "text": [
      "How old are you?\n"
     ]
    },
    {
     "name": "stdin",
     "output_type": "stream",
     "text": [
      " 7\n"
     ]
    },
    {
     "name": "stdout",
     "output_type": "stream",
     "text": [
      "What city do you live in?\n"
     ]
    },
    {
     "name": "stdin",
     "output_type": "stream",
     "text": [
      " seattle\n"
     ]
    }
   ],
   "source": [
    "for i in range(2):\n",
    "    ask_question()"
   ]
  },
  {
   "cell_type": "code",
   "execution_count": 7,
   "id": "twelve-peter",
   "metadata": {},
   "outputs": [
    {
     "data": {
      "text/html": [
       "<div>\n",
       "<style scoped>\n",
       "    .dataframe tbody tr th:only-of-type {\n",
       "        vertical-align: middle;\n",
       "    }\n",
       "\n",
       "    .dataframe tbody tr th {\n",
       "        vertical-align: top;\n",
       "    }\n",
       "\n",
       "    .dataframe thead th {\n",
       "        text-align: right;\n",
       "    }\n",
       "</style>\n",
       "<table border=\"1\" class=\"dataframe\">\n",
       "  <thead>\n",
       "    <tr style=\"text-align: right;\">\n",
       "      <th></th>\n",
       "      <th>Whats your name?</th>\n",
       "      <th>How old are you?</th>\n",
       "      <th>What city do you live in?</th>\n",
       "    </tr>\n",
       "  </thead>\n",
       "  <tbody>\n",
       "    <tr>\n",
       "      <th>0</th>\n",
       "      <td>fen</td>\n",
       "      <td>24</td>\n",
       "      <td>seattle</td>\n",
       "    </tr>\n",
       "    <tr>\n",
       "      <th>1</th>\n",
       "      <td>wasabi</td>\n",
       "      <td>7</td>\n",
       "      <td>seattle</td>\n",
       "    </tr>\n",
       "  </tbody>\n",
       "</table>\n",
       "</div>"
      ],
      "text/plain": [
       "  Whats your name? How old are you? What city do you live in?\n",
       "0              fen               24                   seattle\n",
       "1           wasabi                7                   seattle"
      ]
     },
     "execution_count": 7,
     "metadata": {},
     "output_type": "execute_result"
    }
   ],
   "source": [
    "import pandas as pd \n",
    "pd.DataFrame(list_of_responses, columns=questions)"
   ]
  },
  {
   "cell_type": "code",
   "execution_count": 8,
   "id": "cordless-uruguay",
   "metadata": {},
   "outputs": [],
   "source": [
    "def ask_question():\n",
    "    qna = []\n",
    "    for qs in questions:\n",
    "        # print our question\n",
    "        print(qs)\n",
    "        # get our input\n",
    "        inp = input()\n",
    "        # check if they're entering numbers when we ask for them \n",
    "        if 'old' in qs:\n",
    "            if inp.isnumeric() == False:\n",
    "                # if they aren't, tell them to do it right. \n",
    "                print('Please provide a numeric response.')\n",
    "                break\n",
    "        else:\n",
    "        # check if they're entering letters when we ask for them \n",
    "            if inp.isnumeric():\n",
    "                # same deal here, if they aren't doing it, boot em'\n",
    "                print('Please provide alphabetical response.')\n",
    "                break\n",
    "        # title our responses to normalize capitalization \n",
    "        qna.append(inp.title())\n",
    "    # only add it to our big list if they filled out all of the questions\n",
    "    if len(qna) == len(questions):\n",
    "        list_of_responses.append(qna) "
   ]
  },
  {
   "cell_type": "code",
   "execution_count": 23,
   "id": "undefined-affiliate",
   "metadata": {},
   "outputs": [
    {
     "name": "stdout",
     "output_type": "stream",
     "text": [
      "Whats your name?\n"
     ]
    },
    {
     "name": "stdin",
     "output_type": "stream",
     "text": [
      " 4\n"
     ]
    },
    {
     "name": "stdout",
     "output_type": "stream",
     "text": [
      "Please provide alphabetical response.\n"
     ]
    }
   ],
   "source": [
    "ask_question()"
   ]
  },
  {
   "cell_type": "code",
   "execution_count": 24,
   "id": "absent-requirement",
   "metadata": {},
   "outputs": [
    {
     "data": {
      "text/plain": [
       "{'resp': [{'q': ['Whats your name?',\n",
       "    'How old are you?',\n",
       "    'What city do you live in?'],\n",
       "   'a': ['fen', '24', 'seattle']},\n",
       "  {'q': ['Whats your name?', 'How old are you?', 'What city do you live in?'],\n",
       "   'a': ['wasabi', '7', 'seattle']},\n",
       "  {'q': ['Whats Your Name?'], 'a': ['Fen']},\n",
       "  {'q': [], 'a': []},\n",
       "  {'q': ['Whats Your Name?', 'How Old Are You?', 'What City Do You Live In?'],\n",
       "   'a': ['Fen', '45', 'Seattle']}]}"
      ]
     },
     "execution_count": 24,
     "metadata": {},
     "output_type": "execute_result"
    }
   ],
   "source": [
    "dict_of_responses"
   ]
  },
  {
   "cell_type": "code",
   "execution_count": null,
   "id": "needed-sperm",
   "metadata": {},
   "outputs": [],
   "source": []
  }
 ],
 "metadata": {
  "kernelspec": {
   "display_name": "Python 3",
   "language": "python",
   "name": "python3"
  },
  "language_info": {
   "codemirror_mode": {
    "name": "ipython",
    "version": 3
   },
   "file_extension": ".py",
   "mimetype": "text/x-python",
   "name": "python",
   "nbconvert_exporter": "python",
   "pygments_lexer": "ipython3",
   "version": "3.8.6"
  }
 },
 "nbformat": 4,
 "nbformat_minor": 5
}
