{
 "cells": [
  {
   "cell_type": "code",
   "execution_count": 1,
   "id": "reported-wildlife",
   "metadata": {},
   "outputs": [],
   "source": [
    "dogs = {'tate' : 2, \n",
    "        'kimchi': 3, \n",
    "        'socks': 1, \n",
    "        'roxy': 4, \n",
    "        'eduardo': 2, \n",
    "        'tripod': 3, \n",
    "        'ethel': 4, \n",
    "        'dude': 3, \n",
    "        'butter': 1 }"
   ]
  },
  {
   "cell_type": "code",
   "execution_count": 2,
   "id": "binding-diary",
   "metadata": {},
   "outputs": [
    {
     "name": "stdout",
     "output_type": "stream",
     "text": [
      "Populating the interactive namespace from numpy and matplotlib\n"
     ]
    },
    {
     "data": {
      "text/plain": [
       "'module://ipykernel.pylab.backend_inline'"
      ]
     },
     "execution_count": 2,
     "metadata": {},
     "output_type": "execute_result"
    }
   ],
   "source": [
    "import pandas as pd\n",
    "import numpy as np\n",
    "%matplotlib inline\n",
    "%pylab inline\n",
    "import matplotlib.pyplot as plt\n",
    "import matplotlib.mlab as mlab\n",
    "import matplotlib\n",
    "import pylab as P\n",
    "matplotlib.rcParams['interactive'] == True\n",
    "plt.get_backend()"
   ]
  },
  {
   "cell_type": "code",
   "execution_count": 3,
   "id": "permanent-horror",
   "metadata": {},
   "outputs": [],
   "source": [
    "dogsframe = pd.DataFrame.from_dict(dogs, \n",
    "                                   orient='index',\n",
    "                                   columns=['Number of Interactions'])"
   ]
  },
  {
   "cell_type": "code",
   "execution_count": 4,
   "id": "confirmed-visitor",
   "metadata": {},
   "outputs": [],
   "source": [
    "dogsframe=dogsframe.reset_index().rename(columns={'index':'Dogs'})"
   ]
  },
  {
   "cell_type": "code",
   "execution_count": 5,
   "id": "resistant-yahoo",
   "metadata": {},
   "outputs": [
    {
     "data": {
      "image/png": "[encoded data removed]",
      "text/plain": [
       "<Figure size 720x360 with 1 Axes>"
      ]
     },
     "metadata": {
      "needs_background": "light"
     },
     "output_type": "display_data"
    }
   ],
   "source": [
    "dogplot = dogsframe.plot.barh(figsize=(10,5), \n",
    "                         y='Number of Interactions', \n",
    "                         x='Dogs',\n",
    "                         legend=True)"
   ]
  },
  {
   "cell_type": "code",
   "execution_count": 6,
   "id": "synthetic-sarah",
   "metadata": {},
   "outputs": [
    {
     "data": {
      "text/plain": [
       "Text(0.5, 3.200000000000003, 'How many times Wasabi has met the dogs')"
      ]
     },
     "execution_count": 6,
     "metadata": {},
     "output_type": "execute_result"
    }
   ],
   "source": [
    "dogplot.set_title('Walks in the last week')\n",
    "dogplot.set_ylabel('Names of our neighbors dogs') \n",
    "dogplot.set_xlabel('How many times Wasabi has met the dogs') "
   ]
  },
  {
   "cell_type": "code",
   "execution_count": 7,
   "id": "swiss-methodology",
   "metadata": {},
   "outputs": [
    {
     "data": {
      "text/plain": [
       "[<matplotlib.axis.XTick at 0x1577a609d90>,\n",
       " <matplotlib.axis.XTick at 0x1577a609d60>,\n",
       " <matplotlib.axis.XTick at 0x1577a5269a0>,\n",
       " <matplotlib.axis.XTick at 0x1577a526250>,\n",
       " <matplotlib.axis.XTick at 0x1577a8e2100>,\n",
       " <matplotlib.axis.XTick at 0x1577a8e2610>]"
      ]
     },
     "execution_count": 7,
     "metadata": {},
     "output_type": "execute_result"
    }
   ],
   "source": [
    "dogplot.set_xticks([0,1,2,3,4,5])"
   ]
  },
  {
   "cell_type": "code",
   "execution_count": 8,
   "id": "talented-constraint",
   "metadata": {},
   "outputs": [
    {
     "data": {
      "text/plain": [
       "[Text(0, 0, 'Tate'),\n",
       " Text(0, 1, 'Kimchi'),\n",
       " Text(0, 2, 'Roxy'),\n",
       " Text(0, 3, 'Socks'),\n",
       " Text(0, 4, 'Eduardo'),\n",
       " Text(0, 5, 'Tripod'),\n",
       " Text(0, 6, 'Ethel'),\n",
       " Text(0, 7, 'Dude'),\n",
       " Text(0, 8, 'Butter')]"
      ]
     },
     "execution_count": 8,
     "metadata": {},
     "output_type": "execute_result"
    }
   ],
   "source": [
    "dogplot.set_yticklabels(['Tate',\n",
    "                         'Kimchi',\n",
    "                         'Roxy', \n",
    "                         'Socks', \n",
    "                         'Eduardo',\n",
    "                         'Tripod', \n",
    "                         'Ethel',\n",
    "                         'Dude', \n",
    "                         'Butter'])"
   ]
  },
  {
   "cell_type": "code",
   "execution_count": 9,
   "id": "level-uzbekistan",
   "metadata": {},
   "outputs": [
    {
     "data": {
      "text/plain": [
       "<matplotlib.legend.Legend at 0x157777342e0>"
      ]
     },
     "execution_count": 9,
     "metadata": {},
     "output_type": "execute_result"
    }
   ],
   "source": [
    "dogplot.legend(labels=['times!'], \n",
    "               title ='interactions')"
   ]
  },
  {
   "cell_type": "code",
   "execution_count": 10,
   "id": "differential-deviation",
   "metadata": {},
   "outputs": [],
   "source": [
    "#need to troubleshoot matplotlib backend issues"
   ]
  },
  {
   "cell_type": "code",
   "execution_count": null,
   "id": "willing-argument",
   "metadata": {},
   "outputs": [],
   "source": []
  }
 ],
 "metadata": {
  "kernelspec": {
   "display_name": "Python 3",
   "language": "python",
   "name": "python3"
  },
  "language_info": {
   "codemirror_mode": {
    "name": "ipython",
    "version": 3
   },
   "file_extension": ".py",
   "mimetype": "text/x-python",
   "name": "python",
   "nbconvert_exporter": "python",
   "pygments_lexer": "ipython3",
   "version": "3.8.6"
  }
 },
 "nbformat": 4,
 "nbformat_minor": 5
}
